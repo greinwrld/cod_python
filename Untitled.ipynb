{
 "cells": [
  {
   "cell_type": "code",
   "execution_count": null,
   "id": "e2e7f382",
   "metadata": {},
   "outputs": [],
   "source": [
    "class ArquivoTexto(object):\n",
    "\n",
    "  def __init__(self, arquivo: str):\n",
    "    self.arquivo = arquivo\n",
    "    self.conteudo = self.extrair_conteudo(arquivo)\n",
    "\n",
    "  def extrair_conteudo(self, arquivo):\n",
    "    with open(arquivo, 'r') as file:\n",
    "        conteudo = file.read()\n",
    "    return conteudo\n",
    "\n",
    "  def extrair_linha(self, numero_linha: int):\n",
    "    lista_com_vazios = conteudo.split(sep='\\n')\n",
    "    lista_sem_vazios = [item for item in lista_com_vazios if item]\n",
    "    extrair_linha = lista_sem_vazios[numero_linha]\n",
    "    return extrair_linha"
   ]
  }
 ],
 "metadata": {
  "kernelspec": {
   "display_name": "Python 3 (ipykernel)",
   "language": "python",
   "name": "python3"
  },
  "language_info": {
   "codemirror_mode": {
    "name": "ipython",
    "version": 3
   },
   "file_extension": ".py",
   "mimetype": "text/x-python",
   "name": "python",
   "nbconvert_exporter": "python",
   "pygments_lexer": "ipython3",
   "version": "3.11.5"
  }
 },
 "nbformat": 4,
 "nbformat_minor": 5
}
